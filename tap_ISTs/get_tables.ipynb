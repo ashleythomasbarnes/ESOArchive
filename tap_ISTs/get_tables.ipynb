{
 "cells": [
  {
   "cell_type": "code",
   "execution_count": 1,
   "metadata": {},
   "outputs": [],
   "source": [
    "# Numerical and data handling libraries\n",
    "import numpy as np  # Library for numerical computations, arrays, and mathematical operations\n",
    "import datetime  # Standard Python module for working with date and time objects\n",
    "\n",
    "# Astronomical libraries\n",
    "from astropy.time import Time  # Handles time conversions and formats used in astronomy\n",
    "from astropy.table import vstack, Table, MaskedColumn  # Table operations for handling structured astronomical data\n",
    "\n",
    "# Visualization libraries\n",
    "from matplotlib import pyplot as plt  # Core plotting library for data visualization\n",
    "import matplotlib.dates as mdates  # Helper for formatting date/time data on Matplotlib plots\n",
    "\n",
    "# HTTP and data retrieval libraries\n",
    "import requests  # Library for making HTTP requests to fetch remote data\n",
    "from pyvo.dal import tap  # Handles interaction with astronomical data archives via TAP (Table Access Protocol)\n",
    "\n",
    "# File handling and system interaction\n",
    "import os  # Provides functions for interacting with the operating system (e.g., file paths, directory handling)\n",
    "import cgi  # Parses headers, often used for extracting filenames from HTTP responses\n",
    "import subprocess  # Allows running system commands (used for uncompressing `.Z` files)"
   ]
  },
  {
   "cell_type": "code",
   "execution_count": 2,
   "metadata": {},
   "outputs": [],
   "source": [
    "# Constants\n",
    "ESO_TAP_OBS = \"http://dfidev5.hq.eso.org:8123/tap_obs\"\n",
    "\n",
    "IST_TABLES = [\n",
    "    \"ist.amber\", \"ist.apex\", \"ist.crires\", \"ist.efosc\", \"ist.eris\", \"ist.espresso\", \"ist.fiat\",\n",
    "    \"ist.fors1\", \"ist.fors2\", \"ist.giraffe\", \"ist.gravity\", \"ist.harps\", \"ist.hawki\", \"ist.isaac\",\n",
    "    \"ist.kmos\", \"ist.matisse\", \"ist.midi\", \"ist.muse\", \"ist.naco\", \"ist.nirps\", \"ist.omegacam\",\n",
    "    \"ist.pionier\", \"ist.sinfoni\", \"ist.sofi\", \"ist.sphere\", \"ist.uves\", \"ist.vimos\", \"ist.vircam\",\n",
    "    \"ist.visir\", \"ist.wlgsu\", \"ist.xshooter\"\n",
    "]\n",
    "\n",
    "# Initialize TAP Service\n",
    "tapobs = tap.TAPService(ESO_TAP_OBS)"
   ]
  },
  {
   "cell_type": "code",
   "execution_count": null,
   "metadata": {},
   "outputs": [],
   "source": [
    "# Build queries for each day\n",
    "query_template = (\n",
    "    \"SELECT DISTINCT telescope \\n\"\n",
    "    \"FROM {ist_table}\"\n",
    ")\n",
    "\n",
    "for ist_table in [IST_TABLES[-1]]:\n",
    "\n",
    "    query = query_template.format(ist_table=ist_table)\n",
    "\n",
    "    result = tapobs.search(query) # Results output as astropy.table\n",
    "    result = result.to_table()"
   ]
  },
  {
   "cell_type": "code",
   "execution_count": 3,
   "metadata": {},
   "outputs": [
    {
     "name": "stdout",
     "output_type": "stream",
     "text": [
      "ist.amber: AMBER\n",
      "ist.crires: \n",
      "ist.crires: CRIRES\n",
      "ist.espresso: ESPRESSO\n",
      "ist.fors1: \n",
      "ist.fors1: FORS1\n",
      "ist.fors2: \n",
      "ist.fors2: FORS2\n",
      "ist.giraffe: \n",
      "ist.giraffe: GIRAFFE\n",
      "ist.hawki: HAWKI\n",
      "ist.isaac: \n",
      "ist.isaac: ISAAC\n",
      "ist.kmos: KMOS\n",
      "ist.matisse: MATISSE\n",
      "ist.midi: \n",
      "ist.midi: MIDI\n",
      "ist.naco: \n",
      "ist.naco: NAOS+CONICA\n",
      "ist.omegacam: OMEGACAM\n",
      "ist.sinfoni: SINFONI\n",
      "ist.uves: \n",
      "ist.uves: FLAMES\n",
      "ist.uves: UVES\n",
      "ist.vimos: VIMOS\n",
      "ist.vircam: VIRCAM\n",
      "ist.visir: VISIR\n",
      "ist.xshooter: \n",
      "ist.xshooter: SHOOT\n",
      "ist.xshooter: XSHOOTER\n"
     ]
    }
   ],
   "source": [
    "# Build queries for each day\n",
    "query_template = (\n",
    "    \"SELECT DISTINCT instrument \\n\"\n",
    "    \"FROM {ist_table}\"\n",
    ")\n",
    "\n",
    "for ist_table in IST_TABLES:\n",
    "# for ist_table in [IST_TABLES[-1]]:\n",
    "\n",
    "    query = query_template.format(ist_table=ist_table)\n",
    "\n",
    "    try:\n",
    "        result = tapobs.search(query) # Results output as astropy.table\n",
    "    except:\n",
    "        continue\n",
    "    result = result.to_table()\n",
    "\n",
    "    for instrument in result['instrument']:\n",
    "        print(f\"{ist_table}: {instrument}\")"
   ]
  },
  {
   "cell_type": "code",
   "execution_count": null,
   "metadata": {},
   "outputs": [],
   "source": [
    "# Build queries for each day\n",
    "query_template = (\n",
    "    \"SELECT DISTINCT det_ndit \\n\"\n",
    "    \"FROM {ist_table}\"\n",
    ")\n",
    "\n",
    "for ist_table in IST_TABLES:\n",
    "# for ist_table in ['ist.muse']:\n",
    "# for ist_table in [IST_TABLES[-1]]:\n",
    "\n",
    "    query = query_template.format(ist_table=ist_table)\n",
    "\n",
    "    try:\n",
    "        result = tapobs.search(query) # Results output as astropy.table\n",
    "    except:\n",
    "        continue\n",
    "\n",
    "    result = result.to_table()\n",
    "    result = result[result['det_ndit']>0]\n",
    "\n",
    "    if len(result) > 1:\n",
    "        print(f\"{ist_table} \\t More than one det_ndit\")\n",
    "    elif len(result) <= 1:\n",
    "        print(f\"{ist_table} \\t Only one det_ndit\")"
   ]
  },
  {
   "cell_type": "code",
   "execution_count": null,
   "metadata": {},
   "outputs": [],
   "source": []
  }
 ],
 "metadata": {
  "kernelspec": {
   "display_name": "base",
   "language": "python",
   "name": "python3"
  },
  "language_info": {
   "codemirror_mode": {
    "name": "ipython",
    "version": 3
   },
   "file_extension": ".py",
   "mimetype": "text/x-python",
   "name": "python",
   "nbconvert_exporter": "python",
   "pygments_lexer": "ipython3",
   "version": "3.9.13"
  }
 },
 "nbformat": 4,
 "nbformat_minor": 2
}
